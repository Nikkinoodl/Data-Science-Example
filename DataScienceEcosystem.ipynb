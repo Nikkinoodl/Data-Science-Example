{
 "cells": [
  {
   "cell_type": "markdown",
   "id": "f039774a-a10b-4e6b-986e-025cd1b79452",
   "metadata": {},
   "source": [
    "# Data Science Tools and Ecosystem"
   ]
  },
  {
   "cell_type": "markdown",
   "id": "23ce2557-004a-484d-990c-ab959c86630c",
   "metadata": {},
   "source": [
    "This notebook summarizes some features of data science tools and their ecosystem."
   ]
  },
  {
   "cell_type": "markdown",
   "id": "6d7347e0-add7-453a-8c07-790078b23f75",
   "metadata": {},
   "source": [
    "**Objectives**\n",
    "\n",
    "- List popular languages for data science\n",
    "- List libraries commonly used by data scientists\n",
    "- Include a table of data science tools\n",
    "- Show some examples of basic arithmetic operations in Python"
   ]
  },
  {
   "cell_type": "markdown",
   "id": "baaceabd-15fb-47fb-940c-a6d2fbb54212",
   "metadata": {},
   "source": [
    "Some of the popular languages that data scientists use are:\n",
    "\n",
    "1. Python\n",
    "2. R\n",
    "3. Julia\n",
    "4. C++"
   ]
  },
  {
   "cell_type": "markdown",
   "id": "676dfe8a-61b7-4c05-a6ec-fff939770041",
   "metadata": {},
   "source": [
    "Some of the libraries commonly used by data scientists include:\n",
    "\n",
    "1. Pandas\n",
    "2. NumPy\n",
    "3. SciPy\n",
    "4. Matplotlib"
   ]
  },
  {
   "cell_type": "markdown",
   "id": "b3bbabc0-6fb0-4c0b-858c-d9486490f56d",
   "metadata": {},
   "source": [
    "|Data Science Tools|\n",
    "|--------|\n",
    "|H2O.ai|\n",
    "|RStudio|\n",
    "|IBM Watson OpenScale|"
   ]
  },
  {
   "cell_type": "markdown",
   "id": "1205651c-7d00-406b-a1e5-62ebd9f8d496",
   "metadata": {},
   "source": [
    "### Below are some examples of evaluting arithmetic expressions in Python"
   ]
  },
  {
   "cell_type": "code",
   "execution_count": 104,
   "id": "f140459a-87fb-4d4c-9598-c64530c2cf04",
   "metadata": {},
   "outputs": [
    {
     "data": {
      "text/plain": [
       "17"
      ]
     },
     "execution_count": 104,
     "metadata": {},
     "output_type": "execute_result"
    }
   ],
   "source": [
    "#This is a simple arithmetic expression to multiply then add integers\n",
    "\n",
    "(3*4)+5"
   ]
  },
  {
   "cell_type": "code",
   "execution_count": 105,
   "id": "5ce36eaf-a964-4b21-b15e-f9501a50f983",
   "metadata": {},
   "outputs": [
    {
     "name": "stdout",
     "output_type": "stream",
     "text": [
      "3.33\n"
     ]
    }
   ],
   "source": [
    "#This converts 200 minutes to hours by dividing by 60\n",
    "\n",
    "x=200/60\n",
    "print(\"{:.2f}\".format(x))"
   ]
  },
  {
   "cell_type": "markdown",
   "id": "caa244a7-8b25-4e2e-b3fd-09cd3a9face4",
   "metadata": {},
   "source": [
    "## Author\n",
    "\n",
    "Simon Bland"
   ]
  }
 ],
 "metadata": {
  "kernelspec": {
   "display_name": "Python 3 (ipykernel)",
   "language": "python",
   "name": "python3"
  },
  "language_info": {
   "codemirror_mode": {
    "name": "ipython",
    "version": 3
   },
   "file_extension": ".py",
   "mimetype": "text/x-python",
   "name": "python",
   "nbconvert_exporter": "python",
   "pygments_lexer": "ipython3",
   "version": "3.12.7"
  }
 },
 "nbformat": 4,
 "nbformat_minor": 5
}
